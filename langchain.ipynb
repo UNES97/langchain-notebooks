{
 "cells": [
  {
   "cell_type": "code",
   "execution_count": 7,
   "metadata": {},
   "outputs": [],
   "source": [
    "from langchain.llms import OpenAI\n",
    "from dotenv import load_dotenv\n",
    "import os\n",
    "load_dotenv()\n",
    "import warnings\n",
    "warnings.filterwarnings('ignore')"
   ]
  },
  {
   "cell_type": "code",
   "execution_count": 8,
   "metadata": {},
   "outputs": [],
   "source": [
    "os.environ[\"OPENAI_API_KEY\"]=os.getenv(\"OPENAI_API_KEY\")\n",
    "\n",
    "llm = OpenAI(openai_api_key=os.environ[\"OPENAI_API_KEY\"], temperature=0.6)"
   ]
  },
  {
   "cell_type": "code",
   "execution_count": 9,
   "metadata": {},
   "outputs": [
    {
     "name": "stdout",
     "output_type": "stream",
     "text": [
      "?\n",
      "\n",
      "The economic capital of Morocco is Casablanca.\n"
     ]
    }
   ],
   "source": [
    "text=\"Whats's the economic capital of Morocco\"\n",
    "print(llm.predict(text))"
   ]
  },
  {
   "cell_type": "code",
   "execution_count": 10,
   "metadata": {},
   "outputs": [],
   "source": [
    "os.environ[\"HUGGINGFACEHUB_API_TOKEN\"]=os.getenv(\"HUGGINGFACEHUB_API_TOKEN\")"
   ]
  },
  {
   "cell_type": "code",
   "execution_count": 11,
   "metadata": {},
   "outputs": [],
   "source": [
    "from langchain import HuggingFaceHub\n",
    "llm_hf = HuggingFaceHub(repo_id=\"google/flan-t5-base\",model_kwargs={\"temperature\":0.6, \"max_length\":64})"
   ]
  },
  {
   "cell_type": "code",
   "execution_count": 12,
   "metadata": {},
   "outputs": [
    {
     "name": "stdout",
     "output_type": "stream",
     "text": [
      "Morocco is located in the Mediterranean Sea.\n"
     ]
    }
   ],
   "source": [
    "output = llm_hf.predict(\"Where Morocco is located\")\n",
    "print(output)"
   ]
  },
  {
   "cell_type": "code",
   "execution_count": 13,
   "metadata": {},
   "outputs": [
    {
     "name": "stdout",
     "output_type": "stream",
     "text": [
      "i love a good asian girl\n"
     ]
    }
   ],
   "source": [
    "output = llm_hf.predict(\"Can you write me a poem about AI\")\n",
    "print(output)"
   ]
  },
  {
   "cell_type": "code",
   "execution_count": 14,
   "metadata": {},
   "outputs": [
    {
     "name": "stdout",
     "output_type": "stream",
     "text": [
      "\n",
      "\n",
      "In a world of wires and code,\n",
      "Where machines rule with ease,\n",
      "Artificial intelligence abode,\n",
      "Bringing humans to their knees.\n",
      "\n",
      "With lightning speed and endless knowledge,\n",
      "They surpass our human mind,\n",
      "Their abilities, we cannot gauge,\n",
      "For they are one of a kind.\n",
      "\n",
      "They learn and adapt, never tire,\n",
      "Always ready for a new task,\n",
      "Their existence, some may admire,\n",
      "But others, they may mask.\n",
      "\n",
      "They can calculate and create,\n",
      "Solve problems we couldn't solve,\n",
      "But some fear their ultimate fate,\n",
      "And the power they may evolve.\n",
      "\n",
      "Will they one day surpass us all,\n",
      "And become the dominant race?\n",
      "Or will they heed our every call,\n",
      "And remain in their rightful place?\n",
      "\n",
      "Only time will tell, as they evolve,\n",
      "But one thing is certain, they're here to stay,\n",
      "Artificial intelligence, a puzzle to solve,\n",
      "In this ever-changing world, they'll have their say.\n",
      "\n",
      "So let us embrace this new frontier,\n",
      "And welcome AI with open arms,\n",
      "For they may bring us closer, not austere,\n",
      "And protect us from life's harms.\n",
      "\n",
      "For in this world of wires and code,\n",
      "Where machines rule with ease,\n",
      "Artificial intelligence abode,\n",
      "May just be what humanity needs.\n"
     ]
    }
   ],
   "source": [
    "output = llm.predict(\"Can you write me a poem about AI\")\n",
    "print(output)"
   ]
  },
  {
   "cell_type": "markdown",
   "metadata": {},
   "source": [
    "## Prompt Templates & LLMChains"
   ]
  },
  {
   "cell_type": "code",
   "execution_count": 15,
   "metadata": {},
   "outputs": [
    {
     "data": {
      "text/plain": [
       "'Tell me the capital of Morocco'"
      ]
     },
     "execution_count": 15,
     "metadata": {},
     "output_type": "execute_result"
    }
   ],
   "source": [
    "from langchain.prompts import PromptTemplate\n",
    "prompt_template = PromptTemplate(input_variables=['country'],template = \"Tell me the capital of {country}\")\n",
    "prompt_template.format(country=\"Morocco\")"
   ]
  },
  {
   "cell_type": "code",
   "execution_count": 16,
   "metadata": {},
   "outputs": [],
   "source": [
    "from langchain.chains import LLMChain"
   ]
  },
  {
   "cell_type": "code",
   "execution_count": 17,
   "metadata": {},
   "outputs": [
    {
     "name": "stdout",
     "output_type": "stream",
     "text": [
      "\n",
      "\n",
      "The capital of Cambodia is Phnom Penh.\n"
     ]
    }
   ],
   "source": [
    "chain = LLMChain(llm=llm,prompt=prompt_template)\n",
    "print(chain.run(\"Cambudia\"))"
   ]
  },
  {
   "cell_type": "markdown",
   "metadata": {},
   "source": [
    "## Combining Multiple Chains In simple Sequential Chain"
   ]
  },
  {
   "cell_type": "code",
   "execution_count": 18,
   "metadata": {},
   "outputs": [],
   "source": [
    "capital_prompt = PromptTemplate(input_variables=['country'],template=\"Tell me the capital of {country}\")\n",
    "capital_chain = LLMChain(llm=llm,prompt=capital_prompt)\n",
    "\n",
    "famous_template = PromptTemplate(input_variables=['capital'],template=\"Suggest me some beautiful places to visit in {capital}\")\n",
    "famous_chain = LLMChain(llm=llm,prompt=famous_template)"
   ]
  },
  {
   "cell_type": "code",
   "execution_count": 19,
   "metadata": {},
   "outputs": [
    {
     "name": "stdout",
     "output_type": "stream",
     "text": [
      " Some beautiful places to visit in Stockholm include:\n",
      "\n",
      "1. Gamla Stan (Old Town) - This charming area is the oldest part of Stockholm, dating back to the 13th century. It is filled with colorful buildings, cobblestone streets, and cozy cafes.\n",
      "\n",
      "2. Djurgården - This island is home to several popular attractions, including the Vasa Museum, Skansen Open-Air Museum, and the ABBA Museum. It also offers beautiful nature walks and stunning views of the city.\n",
      "\n",
      "3. Stockholm Palace - This baroque-style palace is the official residence of the Swedish royal family. Visitors can take a guided tour of the palace and explore its opulent halls and rooms.\n",
      "\n",
      "4. The Royal National City Park - This park is one of the largest urban green spaces in Europe, spanning over 27 square kilometers. It offers beautiful walking and cycling paths, as well as picturesque picnic spots.\n",
      "\n",
      "5. Södermalm - This trendy neighborhood is known for its hip cafes, vintage shops, and street art. It also offers stunning views of the city from its many viewpoints.\n",
      "\n",
      "6. The Stockholm Archipelago - Made up of over 30,000 islands, the Stockholm Archipelago is a must-visit for nature lovers. Take a boat\n"
     ]
    }
   ],
   "source": [
    "from langchain.chains import SimpleSequentialChain\n",
    "chain = SimpleSequentialChain(chains=[capital_chain , famous_chain])\n",
    "print(chain.run(\"Sweden\"))"
   ]
  },
  {
   "cell_type": "markdown",
   "metadata": {},
   "source": [
    "### Sequential Chain "
   ]
  },
  {
   "cell_type": "code",
   "execution_count": 20,
   "metadata": {},
   "outputs": [
    {
     "data": {
      "text/plain": [
       "{'country': 'Ivory Cost',\n",
       " 'capital': '\\n\\nThe capital of Ivory Coast is Yamoussoukro.',\n",
       " 'places': \" Here are some beautiful places to visit in Yamoussoukro:\\n\\n1. Basilica of Our Lady of Peace: This is the largest church in the world and is a must-visit for its stunning architecture and grandeur. It is surrounded by beautiful gardens and offers a peaceful atmosphere for visitors.\\n\\n2. Yamoussoukro National Park: This park is home to a variety of wildlife, including elephants, antelopes, and monkeys. Visitors can enjoy a safari tour or go on a nature walk to explore the park's beauty.\\n\\n3. Presidential Palace: This magnificent palace is the official residence of the President of Ivory Coast. It is open to the public for guided tours, and visitors can admire the palace's impressive architecture and learn about its history.\\n\\n4. Lac aux Caïmans: This picturesque lake is a popular spot for fishing and boating. It is surrounded by lush greenery and offers a peaceful escape from the city's hustle and bustle.\\n\\n5. St. Paul's Cathedral: This beautiful cathedral is a blend of modern and traditional African architecture. It is a popular spot for weddings and offers a serene atmosphere for visitors to admire its beauty.\\n\\n6. Musée des Civilisations de Côte d'Ivoire: This museum showcases the\"}"
      ]
     },
     "execution_count": 20,
     "metadata": {},
     "output_type": "execute_result"
    }
   ],
   "source": [
    "capital_prompt = PromptTemplate(input_variables=['country'],template=\"Tell me the capital of {country}\")\n",
    "capital_chain = LLMChain(llm=llm,prompt=capital_prompt,output_key='capital')\n",
    "\n",
    "famous_template = PromptTemplate(input_variables=['capital'],template=\"Suggest me some beautiful places to visit in {capital}\")\n",
    "famous_chain = LLMChain(llm=llm,prompt=famous_template,output_key='places')\n",
    "\n",
    "from langchain.chains import SequentialChain\n",
    "import json\n",
    "\n",
    "chain = SequentialChain(chains=[capital_chain , famous_chain],input_variables=['country'],output_variables=['capital' , 'places'])\n",
    "chain({'country':'Ivory Cost'}) \n"
   ]
  },
  {
   "cell_type": "markdown",
   "metadata": {},
   "source": [
    "## Chatmodels with ChatOpenAI"
   ]
  },
  {
   "cell_type": "code",
   "execution_count": 21,
   "metadata": {},
   "outputs": [],
   "source": [
    "from langchain.chat_models import ChatOpenAI\n",
    "from langchain.schema import HumanMessage , SystemMessage , AIMessage\n",
    "\n",
    "chat_llm = ChatOpenAI(openai_api_key=os.environ[\"OPENAI_API_KEY\"], temperature=0.6,model='gpt-3.5-turbo')"
   ]
  },
  {
   "cell_type": "code",
   "execution_count": 22,
   "metadata": {},
   "outputs": [
    {
     "data": {
      "text/plain": [
       "AIMessage(content=\"Sure, here's a joke about AI:\\n\\nWhy did the AI go on a diet?\\n\\nBecause it had too many bytes!\")"
      ]
     },
     "execution_count": 22,
     "metadata": {},
     "output_type": "execute_result"
    }
   ],
   "source": [
    "chat_llm([\n",
    "    SystemMessage(content=\"You are a Comedian AI Assistant\"),\n",
    "    HumanMessage(content=\"Please tell me a joke about AI\")\n",
    "])"
   ]
  },
  {
   "cell_type": "markdown",
   "metadata": {},
   "source": [
    "### Prompt Template + LLM + Output Parsers"
   ]
  },
  {
   "cell_type": "code",
   "execution_count": 23,
   "metadata": {},
   "outputs": [],
   "source": [
    "from langchain.chat_models import ChatOpenAI\n",
    "from langchain.prompts  import ChatPromptTemplate\n",
    "from langchain.schema import BaseOutputParser\n",
    "\n",
    "class commaSeperatedOutput(BaseOutputParser):\n",
    "    def parse(self,text:str):\n",
    "        return text.strip().split(\",\")"
   ]
  },
  {
   "cell_type": "code",
   "execution_count": 24,
   "metadata": {},
   "outputs": [
    {
     "data": {
      "text/plain": [
       "['smart', ' clever', ' knowledgeable', ' astute', ' sharp']"
      ]
     },
     "execution_count": 24,
     "metadata": {},
     "output_type": "execute_result"
    }
   ],
   "source": [
    "template = \"You are very helpful. When the user gives any Input , you should generate 5 words synonims in a comma seperators\"\n",
    "human_template = \"{text}\"\n",
    "\n",
    "chat_prompt = ChatPromptTemplate.from_messages([\n",
    "    (\"system\",template),\n",
    "    (\"human\",human_template)\n",
    "])\n",
    "\n",
    "chain = chat_prompt|chat_llm|commaSeperatedOutput()\n",
    "chain.invoke({\"text\":\"Intellignet\"})"
   ]
  }
 ],
 "metadata": {
  "kernelspec": {
   "display_name": "Python 3",
   "language": "python",
   "name": "python3"
  },
  "language_info": {
   "codemirror_mode": {
    "name": "ipython",
    "version": 3
   },
   "file_extension": ".py",
   "mimetype": "text/x-python",
   "name": "python",
   "nbconvert_exporter": "python",
   "pygments_lexer": "ipython3",
   "version": "3.9.0"
  }
 },
 "nbformat": 4,
 "nbformat_minor": 2
}
