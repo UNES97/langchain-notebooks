{
 "cells": [
  {
   "cell_type": "code",
   "execution_count": 2,
   "metadata": {},
   "outputs": [],
   "source": [
    "from langchain.vectorstores.cassandra import Cassandra\n",
    "from langchain.indexes.vectorstore import VectorStoreIndexWrapper\n",
    "from langchain.llms import  OpenAI\n",
    "from langchain.embeddings import OpenAIEmbeddings\n",
    "\n",
    "# Support for Datasets Retrival from HF\n",
    "from datasets import  load_dataset\n",
    "\n",
    "# With CassIO, the Engine powering the Astra DB integration in LangChain,\n",
    "# Also initialize the DB connection:\n",
    "import cassio"
   ]
  },
  {
   "cell_type": "code",
   "execution_count": 4,
   "metadata": {},
   "outputs": [
    {
     "data": {
      "text/plain": [
       "True"
      ]
     },
     "execution_count": 4,
     "metadata": {},
     "output_type": "execute_result"
    }
   ],
   "source": [
    "from PyPDF2 import  PdfReader\n",
    "from dotenv import load_dotenv\n",
    "import os\n",
    "load_dotenv()"
   ]
  },
  {
   "cell_type": "code",
   "execution_count": 5,
   "metadata": {},
   "outputs": [],
   "source": [
    "ASTRA_DB_ID = os.getenv('ASTRA_DB_ID')\n",
    "ASTRA_DB_APP_TOKEN = os.getenv('ASTRA_DB_APP_TOKEN')\n",
    "OPENAI_API_KEY = os.getenv('OPENAI_API_KEY')"
   ]
  },
  {
   "cell_type": "code",
   "execution_count": 7,
   "metadata": {},
   "outputs": [],
   "source": [
    "# Load the PDF File\n",
    "pdfreader = PdfReader('bis_fr.pdf')"
   ]
  },
  {
   "cell_type": "code",
   "execution_count": 8,
   "metadata": {},
   "outputs": [],
   "source": [
    "from typing_extensions import Concatenate\n",
    "# Read Text from the PDF\n",
    "raw_text = ''\n",
    "for i,page in enumerate(pdfreader.pages):\n",
    "    content = page.extract_text()\n",
    "    if content:\n",
    "        raw_text += content"
   ]
  },
  {
   "cell_type": "code",
   "execution_count": 13,
   "metadata": {},
   "outputs": [],
   "source": [
    "# Init Connection to the DB\n",
    "cassio.init(token=ASTRA_DB_APP_TOKEN,database_id=ASTRA_DB_ID)"
   ]
  },
  {
   "cell_type": "code",
   "execution_count": 14,
   "metadata": {},
   "outputs": [],
   "source": [
    "# Create the LangChain embedding and LLM objects\n",
    "llm = OpenAI(openai_api_key=OPENAI_API_KEY)\n",
    "embedding = OpenAIEmbeddings(openai_api_key=OPENAI_API_KEY)"
   ]
  },
  {
   "cell_type": "code",
   "execution_count": 15,
   "metadata": {},
   "outputs": [],
   "source": [
    "# Create your LangChain vector store\n",
    "vector_store = Cassandra(\n",
    "    embedding=embedding,\n",
    "    table_name=\"pdf_qry_demo\",\n",
    "    session=None,\n",
    "    keyspace=None\n",
    ")"
   ]
  },
  {
   "cell_type": "code",
   "execution_count": 16,
   "metadata": {},
   "outputs": [],
   "source": [
    "from langchain.text_splitter import CharacterTextSplitter\n",
    "text_splitter = CharacterTextSplitter(\n",
    "    separator=\"\\n\",\n",
    "    chunk_size=800,\n",
    "    chunk_overlap=500,\n",
    "    length_function=len\n",
    ")\n",
    "texts = text_splitter.split_text(raw_text)"
   ]
  },
  {
   "cell_type": "code",
   "execution_count": 17,
   "metadata": {},
   "outputs": [
    {
     "name": "stdout",
     "output_type": "stream",
     "text": [
      "Inserted to the DB\n"
     ]
    }
   ],
   "source": [
    "# Load the dataset into the vector store\n",
    "vector_store.add_texts(texts)\n",
    "print(\"Inserted to the DB\")\n",
    "vector_store_index = VectorStoreIndexWrapper(vectorstore=vector_store)"
   ]
  },
  {
   "cell_type": "code",
   "execution_count": 23,
   "metadata": {},
   "outputs": [
    {
     "name": "stdout",
     "output_type": "stream",
     "text": [
      "Qu elle sont les seuils a ne pas dépasser comme charges bureau si ma societe genere 50.000 mad par mois\n",
      "Les charges déductibles ne doivent pas dépasser 50 000 dirhams par mois et par fournisseur de services pour être déductibles du revenu. Cependant, il est important de vérifier les autres conditions et restrictions mentionnées dans les articles 35, 121 et 216 pour déterminer si votre société est éligible à ces déductions.\n"
     ]
    }
   ],
   "source": [
    "# Run\n",
    "query_text = input(\"Ask a question (Type quit to Exit)\").strip()\n",
    "\n",
    "print(query_text)\n",
    "answer = vector_store_index.query(query_text,llm=llm).strip()\n",
    "print(answer)"
   ]
  }
 ],
 "metadata": {
  "kernelspec": {
   "display_name": "Python 3",
   "language": "python",
   "name": "python3"
  },
  "language_info": {
   "codemirror_mode": {
    "name": "ipython",
    "version": 3
   },
   "file_extension": ".py",
   "mimetype": "text/x-python",
   "name": "python",
   "nbconvert_exporter": "python",
   "pygments_lexer": "ipython3",
   "version": "3.9.0"
  }
 },
 "nbformat": 4,
 "nbformat_minor": 2
}
